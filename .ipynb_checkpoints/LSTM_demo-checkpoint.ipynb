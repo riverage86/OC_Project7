{
 "cells": [
  {
   "cell_type": "code",
   "execution_count": 1,
   "id": "93dee011",
   "metadata": {},
   "outputs": [],
   "source": [
    "#Importing the Libraries\n",
    "import pandas as pd\n",
    "import numpy as np\n",
    "import warnings \n",
    "import matplotlib. pyplot as plt\n",
    "import matplotlib\n",
    "import keras.backend as K\n",
    "import matplotlib.dates as mandates\n",
    "from sklearn.preprocessing import MinMaxScaler\n",
    "from keras.layers import LSTM, Dense, Dropout\n",
    "from sklearn.model_selection import TimeSeriesSplit\n",
    "from sklearn.metrics import mean_squared_error, r2_score\n",
    "from sklearn import linear_model\n",
    "from keras.models import Sequential\n",
    "from keras.callbacks import EarlyStopping\n",
    "from keras.optimizers import Adam\n",
    "from keras.models import load_model\n",
    "from keras.utils.vis_utils import plot_model"
   ]
  },
  {
   "cell_type": "code",
   "execution_count": 2,
   "id": "1cdfca85",
   "metadata": {},
   "outputs": [],
   "source": [
    "def confusion_matrix(true_labels,predicted_labels):\n",
    "    # Calculate the confusion matrix\n",
    "    cm = confusion_matrix(true_labels, predicted_labels)\n",
    "\n",
    "    # Calculate the total number of samples\n",
    "    total_samples = len(true_labels)\n",
    "\n",
    "    # Calculate the normalized confusion matrix\n",
    "    normalized_cm = cm / total_samples\n",
    "\n",
    "    print(\"Confusion Matrix:\")\n",
    "    print(cm)\n",
    "\n",
    "    print(\"\\nNormalized Confusion Matrix:\")\n",
    "    print(normalized_cm)\n",
    "\n",
    "    # Plot the confusion matrix\n",
    "    plt.figure(figsize=(6, 4))\n",
    "    sns.heatmap(cm, annot=True, cmap='Blues', fmt='d')\n",
    "    plt.xlabel('Predicted Labels')\n",
    "    plt.ylabel('True Labels')\n",
    "    plt.title('Confusion Matrix')\n",
    "    plt.show()\n",
    "\n",
    "    # Plot the normalized confusion matrix\n",
    "    plt.figure(figsize=(6, 4))\n",
    "    sns.heatmap(normalized_cm, annot=True, cmap='Blues', fmt='.2f')\n",
    "    plt.xlabel('Predicted Labels')\n",
    "    plt.ylabel('True Labels')\n",
    "    plt.title('Normalized Confusion Matrix')\n",
    "    plt.show()\n",
    "    \n",
    "    return"
   ]
  },
  {
   "cell_type": "code",
   "execution_count": 3,
   "id": "ef3eff38",
   "metadata": {},
   "outputs": [
    {
     "name": "stdout",
     "output_type": "stream",
     "text": [
      "Requirement already satisfied: pydot in c:\\users\\utilisateur\\anaconda3\\lib\\site-packages (1.4.2)\n",
      "Requirement already satisfied: pyparsing>=2.1.4 in c:\\users\\utilisateur\\anaconda3\\lib\\site-packages (from pydot) (3.0.9)\n"
     ]
    },
    {
     "name": "stderr",
     "output_type": "stream",
     "text": [
      "WARNING: Ignoring invalid distribution -rotobuf (c:\\users\\utilisateur\\anaconda3\\lib\\site-packages)\n",
      "WARNING: Ignoring invalid distribution -cipy (c:\\users\\utilisateur\\anaconda3\\lib\\site-packages)\n",
      "WARNING: Ignoring invalid distribution -atplotlib (c:\\users\\utilisateur\\anaconda3\\lib\\site-packages)\n",
      "WARNING: Ignoring invalid distribution -rotobuf (c:\\users\\utilisateur\\anaconda3\\lib\\site-packages)\n",
      "WARNING: Ignoring invalid distribution -cipy (c:\\users\\utilisateur\\anaconda3\\lib\\site-packages)\n",
      "WARNING: Ignoring invalid distribution -atplotlib (c:\\users\\utilisateur\\anaconda3\\lib\\site-packages)\n",
      "WARNING: Ignoring invalid distribution -rotobuf (c:\\users\\utilisateur\\anaconda3\\lib\\site-packages)\n",
      "WARNING: Ignoring invalid distribution -cipy (c:\\users\\utilisateur\\anaconda3\\lib\\site-packages)\n",
      "WARNING: Ignoring invalid distribution -atplotlib (c:\\users\\utilisateur\\anaconda3\\lib\\site-packages)\n",
      "WARNING: Ignoring invalid distribution -rotobuf (c:\\users\\utilisateur\\anaconda3\\lib\\site-packages)\n",
      "WARNING: Ignoring invalid distribution -cipy (c:\\users\\utilisateur\\anaconda3\\lib\\site-packages)\n",
      "WARNING: Ignoring invalid distribution -atplotlib (c:\\users\\utilisateur\\anaconda3\\lib\\site-packages)\n",
      "WARNING: Ignoring invalid distribution -rotobuf (c:\\users\\utilisateur\\anaconda3\\lib\\site-packages)\n",
      "WARNING: Ignoring invalid distribution -cipy (c:\\users\\utilisateur\\anaconda3\\lib\\site-packages)\n",
      "WARNING: Ignoring invalid distribution -atplotlib (c:\\users\\utilisateur\\anaconda3\\lib\\site-packages)\n",
      "WARNING: Ignoring invalid distribution -rotobuf (c:\\users\\utilisateur\\anaconda3\\lib\\site-packages)\n",
      "WARNING: Ignoring invalid distribution -cipy (c:\\users\\utilisateur\\anaconda3\\lib\\site-packages)\n",
      "WARNING: Ignoring invalid distribution -atplotlib (c:\\users\\utilisateur\\anaconda3\\lib\\site-packages)\n"
     ]
    }
   ],
   "source": [
    "!pip install pydot"
   ]
  },
  {
   "cell_type": "code",
   "execution_count": 4,
   "id": "fde8e140",
   "metadata": {},
   "outputs": [
    {
     "name": "stderr",
     "output_type": "stream",
     "text": [
      "WARNING: Ignoring invalid distribution -rotobuf (c:\\users\\utilisateur\\anaconda3\\lib\\site-packages)\n",
      "WARNING: Ignoring invalid distribution -cipy (c:\\users\\utilisateur\\anaconda3\\lib\\site-packages)\n",
      "WARNING: Ignoring invalid distribution -atplotlib (c:\\users\\utilisateur\\anaconda3\\lib\\site-packages)\n",
      "WARNING: Ignoring invalid distribution -rotobuf (c:\\users\\utilisateur\\anaconda3\\lib\\site-packages)\n",
      "WARNING: Ignoring invalid distribution -cipy (c:\\users\\utilisateur\\anaconda3\\lib\\site-packages)\n",
      "WARNING: Ignoring invalid distribution -atplotlib (c:\\users\\utilisateur\\anaconda3\\lib\\site-packages)\n",
      "WARNING: Ignoring invalid distribution -rotobuf (c:\\users\\utilisateur\\anaconda3\\lib\\site-packages)\n",
      "WARNING: Ignoring invalid distribution -cipy (c:\\users\\utilisateur\\anaconda3\\lib\\site-packages)\n",
      "WARNING: Ignoring invalid distribution -atplotlib (c:\\users\\utilisateur\\anaconda3\\lib\\site-packages)\n",
      "WARNING: Ignoring invalid distribution -rotobuf (c:\\users\\utilisateur\\anaconda3\\lib\\site-packages)\n",
      "WARNING: Ignoring invalid distribution -cipy (c:\\users\\utilisateur\\anaconda3\\lib\\site-packages)\n",
      "WARNING: Ignoring invalid distribution -atplotlib (c:\\users\\utilisateur\\anaconda3\\lib\\site-packages)\n",
      "WARNING: Ignoring invalid distribution -rotobuf (c:\\users\\utilisateur\\anaconda3\\lib\\site-packages)\n",
      "WARNING: Ignoring invalid distribution -cipy (c:\\users\\utilisateur\\anaconda3\\lib\\site-packages)\n",
      "WARNING: Ignoring invalid distribution -atplotlib (c:\\users\\utilisateur\\anaconda3\\lib\\site-packages)\n",
      "WARNING: Ignoring invalid distribution -rotobuf (c:\\users\\utilisateur\\anaconda3\\lib\\site-packages)\n",
      "WARNING: Ignoring invalid distribution -cipy (c:\\users\\utilisateur\\anaconda3\\lib\\site-packages)\n",
      "WARNING: Ignoring invalid distribution -atplotlib (c:\\users\\utilisateur\\anaconda3\\lib\\site-packages)\n"
     ]
    },
    {
     "name": "stdout",
     "output_type": "stream",
     "text": [
      "Requirement already satisfied: graphviz in c:\\users\\utilisateur\\anaconda3\\lib\\site-packages (0.20.1)\n"
     ]
    }
   ],
   "source": [
    "!pip install graphviz\n"
   ]
  },
  {
   "cell_type": "code",
   "execution_count": 6,
   "id": "945e9936",
   "metadata": {},
   "outputs": [
    {
     "name": "stderr",
     "output_type": "stream",
     "text": [
      "C:\\Users\\utilisateur\\AppData\\Local\\Temp\\ipykernel_12864\\3043456806.py:1: FutureWarning: The argument 'infer_datetime_format' is deprecated and will be removed in a future version. A strict version of it is now the default, see https://pandas.pydata.org/pdeps/0004-consistent-to-datetime-parsing.html. You can safely remove this argument.\n",
      "  df = pd.read_csv('BNP.PA.csv', na_values=['null'], index_col='Date', parse_dates=True, infer_datetime_format=True)\n"
     ]
    }
   ],
   "source": [
    "df = pd.read_csv('BNP.PA.csv', na_values=['null'], index_col='Date', parse_dates=True, infer_datetime_format=True)"
   ]
  },
  {
   "cell_type": "code",
   "execution_count": 7,
   "id": "6918d35b",
   "metadata": {},
   "outputs": [
    {
     "data": {
      "text/html": [
       "<div>\n",
       "<style scoped>\n",
       "    .dataframe tbody tr th:only-of-type {\n",
       "        vertical-align: middle;\n",
       "    }\n",
       "\n",
       "    .dataframe tbody tr th {\n",
       "        vertical-align: top;\n",
       "    }\n",
       "\n",
       "    .dataframe thead th {\n",
       "        text-align: right;\n",
       "    }\n",
       "</style>\n",
       "<table border=\"1\" class=\"dataframe\">\n",
       "  <thead>\n",
       "    <tr style=\"text-align: right;\">\n",
       "      <th></th>\n",
       "      <th>Open</th>\n",
       "      <th>High</th>\n",
       "      <th>Low</th>\n",
       "      <th>Close</th>\n",
       "      <th>Adj Close</th>\n",
       "      <th>Volume</th>\n",
       "    </tr>\n",
       "    <tr>\n",
       "      <th>Date</th>\n",
       "      <th></th>\n",
       "      <th></th>\n",
       "      <th></th>\n",
       "      <th></th>\n",
       "      <th></th>\n",
       "      <th></th>\n",
       "    </tr>\n",
       "  </thead>\n",
       "  <tbody>\n",
       "    <tr>\n",
       "      <th>2018-08-03</th>\n",
       "      <td>54.700001</td>\n",
       "      <td>54.740002</td>\n",
       "      <td>54.060001</td>\n",
       "      <td>54.419998</td>\n",
       "      <td>37.505856</td>\n",
       "      <td>3551675.0</td>\n",
       "    </tr>\n",
       "    <tr>\n",
       "      <th>2018-08-06</th>\n",
       "      <td>54.529999</td>\n",
       "      <td>54.540001</td>\n",
       "      <td>53.680000</td>\n",
       "      <td>54.029999</td>\n",
       "      <td>37.237064</td>\n",
       "      <td>2733213.0</td>\n",
       "    </tr>\n",
       "    <tr>\n",
       "      <th>2018-08-07</th>\n",
       "      <td>54.220001</td>\n",
       "      <td>54.790001</td>\n",
       "      <td>54.160000</td>\n",
       "      <td>54.540001</td>\n",
       "      <td>37.588558</td>\n",
       "      <td>2626191.0</td>\n",
       "    </tr>\n",
       "    <tr>\n",
       "      <th>2018-08-08</th>\n",
       "      <td>54.500000</td>\n",
       "      <td>54.700001</td>\n",
       "      <td>54.169998</td>\n",
       "      <td>54.400002</td>\n",
       "      <td>37.492069</td>\n",
       "      <td>2312380.0</td>\n",
       "    </tr>\n",
       "    <tr>\n",
       "      <th>2018-08-09</th>\n",
       "      <td>54.299999</td>\n",
       "      <td>54.299999</td>\n",
       "      <td>53.730000</td>\n",
       "      <td>54.180000</td>\n",
       "      <td>37.340450</td>\n",
       "      <td>2173470.0</td>\n",
       "    </tr>\n",
       "  </tbody>\n",
       "</table>\n",
       "</div>"
      ],
      "text/plain": [
       "                 Open       High        Low      Close  Adj Close     Volume\n",
       "Date                                                                        \n",
       "2018-08-03  54.700001  54.740002  54.060001  54.419998  37.505856  3551675.0\n",
       "2018-08-06  54.529999  54.540001  53.680000  54.029999  37.237064  2733213.0\n",
       "2018-08-07  54.220001  54.790001  54.160000  54.540001  37.588558  2626191.0\n",
       "2018-08-08  54.500000  54.700001  54.169998  54.400002  37.492069  2312380.0\n",
       "2018-08-09  54.299999  54.299999  53.730000  54.180000  37.340450  2173470.0"
      ]
     },
     "execution_count": 7,
     "metadata": {},
     "output_type": "execute_result"
    }
   ],
   "source": [
    "df.head()"
   ]
  },
  {
   "cell_type": "code",
   "execution_count": 8,
   "id": "1ac993a8",
   "metadata": {},
   "outputs": [
    {
     "name": "stdout",
     "output_type": "stream",
     "text": [
      "Dataframe Shape:  (1283, 6)\n",
      "Null Value Present:  True\n"
     ]
    }
   ],
   "source": [
    "#Print the shape of Dataframe  and Check for Null Values\n",
    "print('Dataframe Shape: ', df.shape)\n",
    "print('Null Value Present: ', df.isnull().values.any())"
   ]
  },
  {
   "cell_type": "code",
   "execution_count": 9,
   "id": "283be64d",
   "metadata": {},
   "outputs": [
    {
     "data": {
      "text/plain": [
       "<Axes: xlabel='Date'>"
      ]
     },
     "execution_count": 9,
     "metadata": {},
     "output_type": "execute_result"
    },
    {
     "data": {
      "image/png": "[encoded data removed]",
      "text/plain": [
       "<Figure size 640x480 with 1 Axes>"
      ]
     },
     "metadata": {},
     "output_type": "display_data"
    }
   ],
   "source": [
    "#Plot the True Adj Close Value\n",
    "df['Adj Close'].plot()"
   ]
  },
  {
   "cell_type": "code",
   "execution_count": 10,
   "id": "96d30673",
   "metadata": {},
   "outputs": [],
   "source": [
    "#Set Target Variable\n",
    "#output_var = df.dataframe(df['Adj Close'])\n",
    "output_var = df['Adj Close']\n",
    "#Selecting the Features\n",
    "features = ['Open', 'High', 'Low', 'Volume']"
   ]
  },
  {
   "cell_type": "code",
   "execution_count": 11,
   "id": "18e97035",
   "metadata": {},
   "outputs": [
    {
     "data": {
      "text/html": [
       "<div>\n",
       "<style scoped>\n",
       "    .dataframe tbody tr th:only-of-type {\n",
       "        vertical-align: middle;\n",
       "    }\n",
       "\n",
       "    .dataframe tbody tr th {\n",
       "        vertical-align: top;\n",
       "    }\n",
       "\n",
       "    .dataframe thead th {\n",
       "        text-align: right;\n",
       "    }\n",
       "</style>\n",
       "<table border=\"1\" class=\"dataframe\">\n",
       "  <thead>\n",
       "    <tr style=\"text-align: right;\">\n",
       "      <th></th>\n",
       "      <th>Open</th>\n",
       "      <th>High</th>\n",
       "      <th>Low</th>\n",
       "      <th>Volume</th>\n",
       "    </tr>\n",
       "    <tr>\n",
       "      <th>Date</th>\n",
       "      <th></th>\n",
       "      <th></th>\n",
       "      <th></th>\n",
       "      <th></th>\n",
       "    </tr>\n",
       "  </thead>\n",
       "  <tbody>\n",
       "    <tr>\n",
       "      <th>2018-08-03</th>\n",
       "      <td>0.707839</td>\n",
       "      <td>0.688041</td>\n",
       "      <td>0.705286</td>\n",
       "      <td>0.186593</td>\n",
       "    </tr>\n",
       "    <tr>\n",
       "      <th>2018-08-06</th>\n",
       "      <td>0.703800</td>\n",
       "      <td>0.683361</td>\n",
       "      <td>0.696218</td>\n",
       "      <td>0.143594</td>\n",
       "    </tr>\n",
       "    <tr>\n",
       "      <th>2018-08-07</th>\n",
       "      <td>0.696437</td>\n",
       "      <td>0.689211</td>\n",
       "      <td>0.707672</td>\n",
       "      <td>0.137971</td>\n",
       "    </tr>\n",
       "    <tr>\n",
       "      <th>2018-08-08</th>\n",
       "      <td>0.703088</td>\n",
       "      <td>0.687105</td>\n",
       "      <td>0.707911</td>\n",
       "      <td>0.121485</td>\n",
       "    </tr>\n",
       "    <tr>\n",
       "      <th>2018-08-09</th>\n",
       "      <td>0.698337</td>\n",
       "      <td>0.677744</td>\n",
       "      <td>0.697411</td>\n",
       "      <td>0.114187</td>\n",
       "    </tr>\n",
       "  </tbody>\n",
       "</table>\n",
       "</div>"
      ],
      "text/plain": [
       "                Open      High       Low    Volume\n",
       "Date                                              \n",
       "2018-08-03  0.707839  0.688041  0.705286  0.186593\n",
       "2018-08-06  0.703800  0.683361  0.696218  0.143594\n",
       "2018-08-07  0.696437  0.689211  0.707672  0.137971\n",
       "2018-08-08  0.703088  0.687105  0.707911  0.121485\n",
       "2018-08-09  0.698337  0.677744  0.697411  0.114187"
      ]
     },
     "execution_count": 11,
     "metadata": {},
     "output_type": "execute_result"
    }
   ],
   "source": [
    "#Scaling\n",
    "scaler = MinMaxScaler()\n",
    "feature_transform = scaler.fit_transform(df[features])\n",
    "feature_transform= pd.DataFrame(columns=features, data=feature_transform, index=df.index)\n",
    "feature_transform.head()"
   ]
  },
  {
   "cell_type": "code",
   "execution_count": 12,
   "id": "0e223d22",
   "metadata": {},
   "outputs": [],
   "source": [
    "#Splitting to Training set and Test set\n",
    "timesplit= TimeSeriesSplit(n_splits=10)\n",
    "for train_index, test_index in timesplit.split(feature_transform):\n",
    "        X_train, X_test = feature_transform[:len(train_index)], feature_transform[len(train_index): (len(train_index)+len(test_index))]\n",
    "        y_train, y_test = output_var[:len(train_index)].values.ravel(), output_var[len(train_index): (len(train_index)+len(test_index))].values.ravel()"
   ]
  },
  {
   "cell_type": "code",
   "execution_count": 13,
   "id": "8983b624",
   "metadata": {},
   "outputs": [],
   "source": [
    "#Process the data for LSTM\n",
    "trainX =np.array(X_train)\n",
    "testX =np.array(X_test)\n",
    "X_train = trainX.reshape(X_train.shape[0], 1, X_train.shape[1])\n",
    "X_test = testX.reshape(X_test.shape[0], 1, X_test.shape[1])"
   ]
  },
  {
   "cell_type": "code",
   "execution_count": 14,
   "id": "cecb22a4",
   "metadata": {},
   "outputs": [
    {
     "name": "stdout",
     "output_type": "stream",
     "text": [
      "You must install pydot (`pip install pydot`) and install graphviz (see instructions at https://graphviz.gitlab.io/download/) for plot_model to work.\n"
     ]
    }
   ],
   "source": [
    "#Building the LSTM Model\n",
    "lstm = Sequential()\n",
    "lstm.add(LSTM(32, input_shape=(1, trainX.shape[1]), activation='relu', return_sequences=False))\n",
    "lstm.add(Dense(1))\n",
    "lstm.compile(loss='mean_squared_error', optimizer='adam')\n",
    "plot_model(lstm, show_shapes=True, show_layer_names=True)"
   ]
  },
  {
   "cell_type": "code",
   "execution_count": 17,
   "id": "b17930e2",
   "metadata": {},
   "outputs": [
    {
     "name": "stdout",
     "output_type": "stream",
     "text": [
      "Model: \"sequential\"\n",
      "_________________________________________________________________\n",
      " Layer (type)                Output Shape              Param #   \n",
      "=================================================================\n",
      " lstm (LSTM)                 (None, 32)                4736      \n",
      "                                                                 \n",
      " dense (Dense)               (None, 1)                 33        \n",
      "                                                                 \n",
      "=================================================================\n",
      "Total params: 4,769\n",
      "Trainable params: 4,769\n",
      "Non-trainable params: 0\n",
      "_________________________________________________________________\n"
     ]
    }
   ],
   "source": [
    "lstm.summary()"
   ]
  },
  {
   "cell_type": "code",
   "execution_count": null,
   "id": "4958716e",
   "metadata": {},
   "outputs": [],
   "source": []
  },
  {
   "cell_type": "code",
   "execution_count": null,
   "id": "a5d4f7fd",
   "metadata": {},
   "outputs": [],
   "source": []
  },
  {
   "cell_type": "code",
   "execution_count": 14,
   "id": "01ce6b9a",
   "metadata": {},
   "outputs": [
    {
     "name": "stdout",
     "output_type": "stream",
     "text": [
      "Epoch 1/100\n",
      "146/146 [==============================] - 1s 1ms/step - loss: 1510.9139\n",
      "Epoch 2/100\n",
      "146/146 [==============================] - 0s 1ms/step - loss: 1258.8921\n",
      "Epoch 3/100\n",
      "146/146 [==============================] - 0s 2ms/step - loss: 749.1938\n",
      "Epoch 4/100\n",
      "146/146 [==============================] - 0s 2ms/step - loss: 269.6317\n",
      "Epoch 5/100\n",
      "146/146 [==============================] - 0s 1ms/step - loss: 60.5242\n",
      "Epoch 6/100\n",
      "146/146 [==============================] - 0s 1ms/step - loss: 22.8270\n",
      "Epoch 7/100\n",
      "146/146 [==============================] - 0s 1ms/step - loss: 22.0750\n",
      "Epoch 8/100\n",
      "146/146 [==============================] - 0s 1ms/step - loss: 22.8720\n",
      "Epoch 9/100\n",
      "146/146 [==============================] - 0s 1ms/step - loss: 23.0257\n",
      "Epoch 10/100\n",
      "146/146 [==============================] - 0s 1ms/step - loss: 22.9821\n",
      "Epoch 11/100\n",
      "146/146 [==============================] - 0s 1ms/step - loss: 22.8924\n",
      "Epoch 12/100\n",
      "146/146 [==============================] - 0s 1ms/step - loss: 22.7867\n",
      "Epoch 13/100\n",
      "146/146 [==============================] - 0s 1ms/step - loss: 22.6710\n",
      "Epoch 14/100\n",
      "146/146 [==============================] - 0s 1ms/step - loss: 22.5473\n",
      "Epoch 15/100\n",
      "146/146 [==============================] - 0s 1ms/step - loss: 22.4174\n",
      "Epoch 16/100\n",
      "146/146 [==============================] - 0s 1ms/step - loss: 22.2810\n",
      "Epoch 17/100\n",
      "146/146 [==============================] - 0s 1ms/step - loss: 22.1402\n",
      "Epoch 18/100\n",
      "146/146 [==============================] - 0s 1ms/step - loss: 21.9993\n",
      "Epoch 19/100\n",
      "146/146 [==============================] - 0s 1ms/step - loss: 21.8203\n",
      "Epoch 20/100\n",
      "146/146 [==============================] - 0s 1ms/step - loss: 21.7369\n",
      "Epoch 21/100\n",
      "146/146 [==============================] - 0s 1ms/step - loss: 21.5615\n",
      "Epoch 22/100\n",
      "146/146 [==============================] - 0s 1ms/step - loss: 21.3964\n",
      "Epoch 23/100\n",
      "146/146 [==============================] - 0s 1ms/step - loss: 21.2838\n",
      "Epoch 24/100\n",
      "146/146 [==============================] - 0s 1ms/step - loss: 21.1087\n",
      "Epoch 25/100\n",
      "146/146 [==============================] - 0s 1ms/step - loss: 20.9365\n",
      "Epoch 26/100\n",
      "146/146 [==============================] - 0s 1ms/step - loss: 20.8326\n",
      "Epoch 27/100\n",
      "146/146 [==============================] - 0s 1ms/step - loss: 20.6571\n",
      "Epoch 28/100\n",
      "146/146 [==============================] - 0s 1ms/step - loss: 20.5332\n",
      "Epoch 29/100\n",
      "146/146 [==============================] - 0s 1ms/step - loss: 20.3887\n",
      "Epoch 30/100\n",
      "146/146 [==============================] - 0s 1ms/step - loss: 20.2515\n",
      "Epoch 31/100\n",
      "146/146 [==============================] - 0s 1ms/step - loss: 20.1218\n",
      "Epoch 32/100\n",
      "146/146 [==============================] - 0s 1ms/step - loss: 19.9753\n",
      "Epoch 33/100\n",
      "146/146 [==============================] - 0s 1ms/step - loss: 19.8636\n",
      "Epoch 34/100\n",
      "146/146 [==============================] - 0s 1ms/step - loss: 19.7183\n",
      "Epoch 35/100\n",
      "146/146 [==============================] - 0s 1ms/step - loss: 19.6094\n",
      "Epoch 36/100\n",
      "146/146 [==============================] - 0s 1ms/step - loss: 19.4902\n",
      "Epoch 37/100\n",
      "146/146 [==============================] - 0s 1ms/step - loss: 19.3802\n",
      "Epoch 38/100\n",
      "146/146 [==============================] - 0s 1ms/step - loss: 19.2615\n",
      "Epoch 39/100\n",
      "146/146 [==============================] - 0s 1ms/step - loss: 19.1609\n",
      "Epoch 40/100\n",
      "146/146 [==============================] - 0s 1ms/step - loss: 19.0581\n",
      "Epoch 41/100\n",
      "146/146 [==============================] - 0s 1ms/step - loss: 18.9554\n",
      "Epoch 42/100\n",
      "146/146 [==============================] - 0s 1ms/step - loss: 18.8495\n",
      "Epoch 43/100\n",
      "146/146 [==============================] - 0s 1ms/step - loss: 18.7588\n",
      "Epoch 44/100\n",
      "146/146 [==============================] - 0s 1ms/step - loss: 18.6731\n",
      "Epoch 45/100\n",
      "146/146 [==============================] - 0s 1ms/step - loss: 18.5905\n",
      "Epoch 46/100\n",
      "146/146 [==============================] - 0s 1ms/step - loss: 18.5007\n",
      "Epoch 47/100\n",
      "146/146 [==============================] - 0s 1ms/step - loss: 18.4215\n",
      "Epoch 48/100\n",
      "146/146 [==============================] - 0s 1ms/step - loss: 18.3408\n",
      "Epoch 49/100\n",
      "146/146 [==============================] - 0s 1ms/step - loss: 18.2675\n",
      "Epoch 50/100\n",
      "146/146 [==============================] - 0s 1ms/step - loss: 18.1951\n",
      "Epoch 51/100\n",
      "146/146 [==============================] - 0s 1ms/step - loss: 18.1271\n",
      "Epoch 52/100\n",
      "146/146 [==============================] - 0s 1ms/step - loss: 18.0615\n",
      "Epoch 53/100\n",
      "146/146 [==============================] - 0s 1ms/step - loss: 17.9962\n",
      "Epoch 54/100\n",
      "146/146 [==============================] - 0s 1ms/step - loss: 17.9353\n",
      "Epoch 55/100\n",
      "146/146 [==============================] - 0s 1ms/step - loss: 17.8772\n",
      "Epoch 56/100\n",
      "146/146 [==============================] - 0s 1ms/step - loss: 17.8199\n",
      "Epoch 57/100\n",
      "146/146 [==============================] - 0s 1ms/step - loss: 17.7661\n",
      "Epoch 58/100\n",
      "146/146 [==============================] - 0s 1ms/step - loss: 17.7130\n",
      "Epoch 59/100\n",
      "146/146 [==============================] - 0s 1ms/step - loss: 17.6627\n",
      "Epoch 60/100\n",
      "146/146 [==============================] - 0s 1ms/step - loss: 17.6148\n",
      "Epoch 61/100\n",
      "146/146 [==============================] - 0s 1ms/step - loss: 17.5698\n",
      "Epoch 62/100\n",
      "146/146 [==============================] - 0s 1ms/step - loss: 17.5256\n",
      "Epoch 63/100\n",
      "146/146 [==============================] - 0s 1ms/step - loss: 17.4846\n",
      "Epoch 64/100\n",
      "146/146 [==============================] - 0s 1ms/step - loss: 17.4432\n",
      "Epoch 65/100\n",
      "146/146 [==============================] - 0s 1ms/step - loss: 17.4044\n",
      "Epoch 66/100\n",
      "146/146 [==============================] - 0s 1ms/step - loss: 17.3676\n",
      "Epoch 67/100\n",
      "146/146 [==============================] - 0s 1ms/step - loss: 17.3326\n",
      "Epoch 68/100\n",
      "146/146 [==============================] - 0s 1ms/step - loss: 17.2981\n",
      "Epoch 69/100\n",
      "146/146 [==============================] - 0s 1ms/step - loss: 17.2646\n",
      "Epoch 70/100\n",
      "146/146 [==============================] - 0s 1ms/step - loss: 17.2344\n",
      "Epoch 71/100\n",
      "146/146 [==============================] - 0s 1ms/step - loss: 17.2045\n",
      "Epoch 72/100\n",
      "146/146 [==============================] - 0s 1ms/step - loss: 17.1755\n",
      "Epoch 73/100\n",
      "146/146 [==============================] - 0s 1ms/step - loss: 17.1474\n",
      "Epoch 74/100\n",
      "146/146 [==============================] - 0s 1ms/step - loss: 17.1209\n",
      "Epoch 75/100\n",
      "146/146 [==============================] - 0s 1ms/step - loss: 17.0962\n",
      "Epoch 76/100\n",
      "146/146 [==============================] - 0s 1ms/step - loss: 17.0712\n",
      "Epoch 77/100\n",
      "146/146 [==============================] - 0s 1ms/step - loss: 17.0484\n",
      "Epoch 78/100\n",
      "146/146 [==============================] - 0s 1ms/step - loss: 17.0258\n",
      "Epoch 79/100\n",
      "146/146 [==============================] - 0s 2ms/step - loss: 17.0044\n",
      "Epoch 80/100\n",
      "146/146 [==============================] - 0s 1ms/step - loss: 16.9839\n",
      "Epoch 81/100\n",
      "146/146 [==============================] - 0s 1ms/step - loss: 16.9644\n",
      "Epoch 82/100\n",
      "146/146 [==============================] - 0s 1ms/step - loss: 16.9454\n",
      "Epoch 83/100\n",
      "146/146 [==============================] - 0s 1ms/step - loss: 16.9262\n",
      "Epoch 84/100\n",
      "146/146 [==============================] - 0s 1ms/step - loss: 16.9087\n",
      "Epoch 85/100\n",
      "146/146 [==============================] - 0s 1ms/step - loss: 16.8917\n",
      "Epoch 86/100\n",
      "146/146 [==============================] - 0s 2ms/step - loss: 16.8755\n",
      "Epoch 87/100\n",
      "146/146 [==============================] - 0s 1ms/step - loss: 16.8598\n",
      "Epoch 88/100\n",
      "146/146 [==============================] - 0s 1ms/step - loss: 16.8447\n",
      "Epoch 89/100\n",
      "146/146 [==============================] - 0s 1ms/step - loss: 16.8298\n",
      "Epoch 90/100\n",
      "146/146 [==============================] - 0s 1ms/step - loss: 16.8156\n",
      "Epoch 91/100\n",
      "146/146 [==============================] - 0s 1ms/step - loss: 16.8010\n",
      "Epoch 92/100\n",
      "146/146 [==============================] - 0s 1ms/step - loss: 16.7885\n",
      "Epoch 93/100\n",
      "146/146 [==============================] - 0s 1ms/step - loss: 16.7748\n",
      "Epoch 94/100\n",
      "146/146 [==============================] - 0s 2ms/step - loss: 16.7632\n",
      "Epoch 95/100\n",
      "146/146 [==============================] - 0s 1ms/step - loss: 16.7510\n",
      "Epoch 96/100\n",
      "146/146 [==============================] - 0s 1ms/step - loss: 16.7395\n",
      "Epoch 97/100\n",
      "146/146 [==============================] - 0s 1ms/step - loss: 16.7278\n",
      "Epoch 98/100\n",
      "146/146 [==============================] - 0s 1ms/step - loss: 16.7169\n",
      "Epoch 99/100\n",
      "146/146 [==============================] - 0s 1ms/step - loss: 16.7060\n",
      "Epoch 100/100\n",
      "146/146 [==============================] - 0s 2ms/step - loss: 16.6954\n"
     ]
    }
   ],
   "source": [
    "#Model Training\n",
    "history=lstm.fit(X_train, y_train, epochs=100, batch_size=8, verbose=1, shuffle=False)"
   ]
  },
  {
   "cell_type": "code",
   "execution_count": 15,
   "id": "43cb9335",
   "metadata": {},
   "outputs": [
    {
     "name": "stdout",
     "output_type": "stream",
     "text": [
      "4/4 [==============================] - 0s 1ms/step\n"
     ]
    }
   ],
   "source": [
    "#LSTM Prediction\n",
    "y_pred= lstm.predict(X_test)"
   ]
  },
  {
   "cell_type": "code",
   "execution_count": 16,
   "id": "04716d6d",
   "metadata": {},
   "outputs": [
    {
     "data": {
      "image/png": "[encoded data removed]",
      "text/plain": [
       "<Figure size 640x480 with 1 Axes>"
      ]
     },
     "metadata": {},
     "output_type": "display_data"
    }
   ],
   "source": [
    "#Predicted vs True Adj Close Value – LSTM\n",
    "plt.plot(y_test, label='True Value')\n",
    "plt.plot(y_pred, label='LSTM Value')\n",
    "plt.title('Prediction by LSTM')\n",
    "plt.xlabel('Time Scale')\n",
    "plt.ylabel('Scaled EUR')\n",
    "plt.legend()\n",
    "plt.show()"
   ]
  },
  {
   "cell_type": "raw",
   "id": "cb193a16",
   "metadata": {},
   "source": [
    "The graph above demonstrates that the extremely basic single LSTM network model created above detects some patterns. We may get a more accurate depiction of every specific company’s stock value by fine-tuning many parameters and adding more LSTM layers to the model."
   ]
  },
  {
   "cell_type": "code",
   "execution_count": null,
   "id": "55df6501",
   "metadata": {},
   "outputs": [],
   "source": [
    "confusion_matrix(y_test, y_pred)"
   ]
  },
  {
   "cell_type": "code",
   "execution_count": null,
   "id": "9649d9c7",
   "metadata": {},
   "outputs": [],
   "source": []
  },
  {
   "cell_type": "code",
   "execution_count": null,
   "id": "1c91ed3e",
   "metadata": {},
   "outputs": [],
   "source": []
  },
  {
   "cell_type": "code",
   "execution_count": null,
   "id": "4592f408",
   "metadata": {},
   "outputs": [],
   "source": [
    "import seaborn as sns\n",
    "import matplotlib.pyplot as plt\n",
    "from sklearn.metrics import confusion_matrix\n",
    "\n",
    "\n",
    "# Assuming you have true labels and predicted labels\n",
    "true_labels = [1, 0, 1, 0, 1, 1, 0, 0, 1, 1]\n",
    "predicted_labels = [1, 0, 0, 0, 1, 1, 1, 0, 1, 0]\n",
    "\n",
    "confusion_matrix(true_labels, predicted_labels)\n",
    "\n",
    "\n",
    "\n",
    "\n"
   ]
  },
  {
   "cell_type": "code",
   "execution_count": null,
   "id": "4dd235d2",
   "metadata": {},
   "outputs": [],
   "source": []
  },
  {
   "cell_type": "code",
   "execution_count": null,
   "id": "1584e427",
   "metadata": {},
   "outputs": [],
   "source": []
  },
  {
   "cell_type": "code",
   "execution_count": null,
   "id": "e2bd5fe4",
   "metadata": {},
   "outputs": [],
   "source": []
  }
 ],
 "metadata": {
  "kernelspec": {
   "display_name": "Python 3 (ipykernel)",
   "language": "python",
   "name": "python3"
  },
  "language_info": {
   "codemirror_mode": {
    "name": "ipython",
    "version": 3
   },
   "file_extension": ".py",
   "mimetype": "text/x-python",
   "name": "python",
   "nbconvert_exporter": "python",
   "pygments_lexer": "ipython3",
   "version": "3.9.13"
  }
 },
 "nbformat": 4,
 "nbformat_minor": 5
}
