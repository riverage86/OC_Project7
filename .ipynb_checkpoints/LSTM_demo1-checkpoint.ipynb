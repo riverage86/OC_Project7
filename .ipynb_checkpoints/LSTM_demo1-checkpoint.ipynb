{
 "cells": [
  {
   "cell_type": "code",
   "execution_count": 96,
   "id": "93dee011",
   "metadata": {},
   "outputs": [],
   "source": [
    "#Importing the Libraries\n",
    "import pandas as pd\n",
    "import numpy as np\n",
    "import warnings \n",
    "import matplotlib. pyplot as plt\n",
    "import matplotlib\n",
    "import keras.backend as K\n",
    "import matplotlib.dates as mandates\n",
    "from sklearn.preprocessing import MinMaxScaler\n",
    "from keras.layers import LSTM, Dense, Dropout\n",
    "from sklearn.model_selection import TimeSeriesSplit\n",
    "from sklearn.metrics import mean_squared_error, r2_score\n",
    "from sklearn import linear_model\n",
    "from keras.models import Sequential\n",
    "from keras.callbacks import EarlyStopping, ModelCheckpoint\n",
    "from keras.optimizers import Adam\n",
    "from keras.models import load_model\n",
    "from keras.utils.vis_utils import plot_model\n",
    "from pathlib import Path\n",
    "import seaborn as sns\n",
    "import yfinance as yf"
   ]
  },
  {
   "cell_type": "code",
   "execution_count": 62,
   "id": "16894869",
   "metadata": {},
   "outputs": [],
   "source": [
    "def lstm_mse_rsme(lstm_training): \n",
    "    fig, ax = plt.subplots(figsize=(12, 4))\n",
    "\n",
    "    # transforme MSE en RMSE\n",
    "    loss_history = pd.DataFrame(lstm_training.history).pow(.5)\n",
    "    loss_history.index += 1\n",
    "\n",
    "#calcule la valeur minimale de la colonne val_loss dans le DataFrame loss_history, \n",
    "#ce qui correspond au meilleur RMSE de validation atteint par le modèle.\n",
    "    best_rmse = loss_history.val_loss.min()\n",
    "    best_epoch = loss_history.val_loss.idxmin()\n",
    "\n",
    "    title = f'5-Epoch Rolling RMSE (Best Validation RMSE: {best_rmse:.4%})'\n",
    "    loss_history.columns=['Training RMSE', 'Validation RMSE']\n",
    "    loss_history.rolling(5).mean().plot(logy=True, lw=2, title=title, ax=ax)\n",
    "\n",
    "#une ligne verticale pointillée (ls='--') sur le graphique pour marquer\n",
    "#l'époque avec le meilleur RMSE de validation (best_epoch).\n",
    "    ax.axvline(best_epoch, ls='--', lw=1, c='k')\n",
    "\n",
    "    sns.despine()\n",
    "    fig.tight_layout()\n",
    "    return best_rmse"
   ]
  },
  {
   "cell_type": "code",
   "execution_count": 35,
   "id": "1cdfca85",
   "metadata": {},
   "outputs": [],
   "source": [
    "def confusion_matrix(true_labels,predicted_labels):\n",
    "    # Calculate the confusion matrix\n",
    "    cm = confusion_matrix(true_labels, predicted_labels)\n",
    "\n",
    "    # Calculate the total number of samples\n",
    "    total_samples = len(true_labels)\n",
    "\n",
    "    # Calculate the normalized confusion matrix\n",
    "    normalized_cm = cm / total_samples\n",
    "\n",
    "    print(\"Confusion Matrix:\")\n",
    "    print(cm)\n",
    "\n",
    "    print(\"\\nNormalized Confusion Matrix:\")\n",
    "    print(normalized_cm)\n",
    "\n",
    "    # Plot the confusion matrix\n",
    "    plt.figure(figsize=(6, 4))\n",
    "    sns.heatmap(cm, annot=True, cmap='Blues', fmt='d')\n",
    "    plt.xlabel('Predicted Labels')\n",
    "    plt.ylabel('True Labels')\n",
    "    plt.title('Confusion Matrix')\n",
    "    plt.show()\n",
    "\n",
    "    # Plot the normalized confusion matrix\n",
    "    plt.figure(figsize=(6, 4))\n",
    "    sns.heatmap(normalized_cm, annot=True, cmap='Blues', fmt='.2f')\n",
    "    plt.xlabel('Predicted Labels')\n",
    "    plt.ylabel('True Labels')\n",
    "    plt.title('Normalized Confusion Matrix')\n",
    "    plt.show()\n",
    "    \n",
    "    return"
   ]
  },
  {
   "cell_type": "code",
   "execution_count": 98,
   "id": "edf922ab",
   "metadata": {},
   "outputs": [],
   "source": [
    "# Define stock symbol and date range\n",
    "stock_symbol = 'BNP.PA'  # Replace with the stock symbol you're interested in\n",
    "start_date = '2016-01-01'\n",
    "end_date = '2023-01-01'"
   ]
  },
  {
   "cell_type": "code",
   "execution_count": 99,
   "id": "6fb513dc",
   "metadata": {},
   "outputs": [
    {
     "name": "stdout",
     "output_type": "stream",
     "text": [
      "[*********************100%***********************]  1 of 1 completed\n"
     ]
    }
   ],
   "source": [
    "stock_data = yf.download(stock_symbol, start=start_date, end=end_date)"
   ]
  },
  {
   "cell_type": "code",
   "execution_count": 100,
   "id": "2f79cb56",
   "metadata": {},
   "outputs": [],
   "source": [
    "stock_data.to_csv('BNP.PA.csv')"
   ]
  },
  {
   "cell_type": "code",
   "execution_count": 101,
   "id": "945e9936",
   "metadata": {},
   "outputs": [
    {
     "name": "stderr",
     "output_type": "stream",
     "text": [
      "C:\\Users\\utilisateur\\AppData\\Local\\Temp\\ipykernel_12864\\3043456806.py:1: FutureWarning: The argument 'infer_datetime_format' is deprecated and will be removed in a future version. A strict version of it is now the default, see https://pandas.pydata.org/pdeps/0004-consistent-to-datetime-parsing.html. You can safely remove this argument.\n",
      "  df = pd.read_csv('BNP.PA.csv', na_values=['null'], index_col='Date', parse_dates=True, infer_datetime_format=True)\n"
     ]
    }
   ],
   "source": [
    "df = pd.read_csv('BNP.PA.csv', na_values=['null'], index_col='Date', parse_dates=True, infer_datetime_format=True)"
   ]
  },
  {
   "cell_type": "code",
   "execution_count": 102,
   "id": "6918d35b",
   "metadata": {},
   "outputs": [
    {
     "data": {
      "text/html": [
       "<div>\n",
       "<style scoped>\n",
       "    .dataframe tbody tr th:only-of-type {\n",
       "        vertical-align: middle;\n",
       "    }\n",
       "\n",
       "    .dataframe tbody tr th {\n",
       "        vertical-align: top;\n",
       "    }\n",
       "\n",
       "    .dataframe thead th {\n",
       "        text-align: right;\n",
       "    }\n",
       "</style>\n",
       "<table border=\"1\" class=\"dataframe\">\n",
       "  <thead>\n",
       "    <tr style=\"text-align: right;\">\n",
       "      <th></th>\n",
       "      <th>Open</th>\n",
       "      <th>High</th>\n",
       "      <th>Low</th>\n",
       "      <th>Close</th>\n",
       "      <th>Adj Close</th>\n",
       "      <th>Volume</th>\n",
       "    </tr>\n",
       "    <tr>\n",
       "      <th>Date</th>\n",
       "      <th></th>\n",
       "      <th></th>\n",
       "      <th></th>\n",
       "      <th></th>\n",
       "      <th></th>\n",
       "      <th></th>\n",
       "    </tr>\n",
       "  </thead>\n",
       "  <tbody>\n",
       "    <tr>\n",
       "      <th>2016-01-04</th>\n",
       "      <td>51.750000</td>\n",
       "      <td>51.790001</td>\n",
       "      <td>50.619999</td>\n",
       "      <td>51.220001</td>\n",
       "      <td>30.560139</td>\n",
       "      <td>4769816</td>\n",
       "    </tr>\n",
       "    <tr>\n",
       "      <th>2016-01-05</th>\n",
       "      <td>52.000000</td>\n",
       "      <td>52.000000</td>\n",
       "      <td>50.959999</td>\n",
       "      <td>51.490002</td>\n",
       "      <td>30.721228</td>\n",
       "      <td>2996402</td>\n",
       "    </tr>\n",
       "    <tr>\n",
       "      <th>2016-01-06</th>\n",
       "      <td>51.380001</td>\n",
       "      <td>51.380001</td>\n",
       "      <td>50.119999</td>\n",
       "      <td>50.500000</td>\n",
       "      <td>30.130554</td>\n",
       "      <td>3059199</td>\n",
       "    </tr>\n",
       "    <tr>\n",
       "      <th>2016-01-07</th>\n",
       "      <td>49.230000</td>\n",
       "      <td>49.865002</td>\n",
       "      <td>48.564999</td>\n",
       "      <td>49.389999</td>\n",
       "      <td>29.468277</td>\n",
       "      <td>5433119</td>\n",
       "    </tr>\n",
       "    <tr>\n",
       "      <th>2016-01-08</th>\n",
       "      <td>49.544998</td>\n",
       "      <td>49.955002</td>\n",
       "      <td>48.000000</td>\n",
       "      <td>48.000000</td>\n",
       "      <td>28.638937</td>\n",
       "      <td>5532110</td>\n",
       "    </tr>\n",
       "  </tbody>\n",
       "</table>\n",
       "</div>"
      ],
      "text/plain": [
       "                 Open       High        Low      Close  Adj Close   Volume\n",
       "Date                                                                      \n",
       "2016-01-04  51.750000  51.790001  50.619999  51.220001  30.560139  4769816\n",
       "2016-01-05  52.000000  52.000000  50.959999  51.490002  30.721228  2996402\n",
       "2016-01-06  51.380001  51.380001  50.119999  50.500000  30.130554  3059199\n",
       "2016-01-07  49.230000  49.865002  48.564999  49.389999  29.468277  5433119\n",
       "2016-01-08  49.544998  49.955002  48.000000  48.000000  28.638937  5532110"
      ]
     },
     "execution_count": 102,
     "metadata": {},
     "output_type": "execute_result"
    }
   ],
   "source": [
    "df.head()"
   ]
  },
  {
   "cell_type": "code",
   "execution_count": 104,
   "id": "62129de9",
   "metadata": {},
   "outputs": [
    {
     "data": {
      "text/html": [
       "<div>\n",
       "<style scoped>\n",
       "    .dataframe tbody tr th:only-of-type {\n",
       "        vertical-align: middle;\n",
       "    }\n",
       "\n",
       "    .dataframe tbody tr th {\n",
       "        vertical-align: top;\n",
       "    }\n",
       "\n",
       "    .dataframe thead th {\n",
       "        text-align: right;\n",
       "    }\n",
       "</style>\n",
       "<table border=\"1\" class=\"dataframe\">\n",
       "  <thead>\n",
       "    <tr style=\"text-align: right;\">\n",
       "      <th></th>\n",
       "      <th>Open</th>\n",
       "      <th>High</th>\n",
       "      <th>Low</th>\n",
       "      <th>Close</th>\n",
       "      <th>Adj Close</th>\n",
       "      <th>Volume</th>\n",
       "    </tr>\n",
       "    <tr>\n",
       "      <th>Date</th>\n",
       "      <th></th>\n",
       "      <th></th>\n",
       "      <th></th>\n",
       "      <th></th>\n",
       "      <th></th>\n",
       "      <th></th>\n",
       "    </tr>\n",
       "  </thead>\n",
       "  <tbody>\n",
       "    <tr>\n",
       "      <th>2016-01-11</th>\n",
       "      <td>48.009998</td>\n",
       "      <td>49.025002</td>\n",
       "      <td>47.900002</td>\n",
       "      <td>47.900002</td>\n",
       "      <td>28.579277</td>\n",
       "      <td>4230252</td>\n",
       "    </tr>\n",
       "    <tr>\n",
       "      <th>2016-01-12</th>\n",
       "      <td>48.419998</td>\n",
       "      <td>49.439999</td>\n",
       "      <td>48.110001</td>\n",
       "      <td>48.945000</td>\n",
       "      <td>29.202766</td>\n",
       "      <td>4130594</td>\n",
       "    </tr>\n",
       "    <tr>\n",
       "      <th>2016-01-13</th>\n",
       "      <td>49.445000</td>\n",
       "      <td>49.985001</td>\n",
       "      <td>48.590000</td>\n",
       "      <td>48.855000</td>\n",
       "      <td>29.149075</td>\n",
       "      <td>3796170</td>\n",
       "    </tr>\n",
       "    <tr>\n",
       "      <th>2016-01-14</th>\n",
       "      <td>48.084999</td>\n",
       "      <td>48.279999</td>\n",
       "      <td>46.695000</td>\n",
       "      <td>47.095001</td>\n",
       "      <td>28.098978</td>\n",
       "      <td>7261105</td>\n",
       "    </tr>\n",
       "    <tr>\n",
       "      <th>2016-01-15</th>\n",
       "      <td>47.000000</td>\n",
       "      <td>47.070000</td>\n",
       "      <td>44.915001</td>\n",
       "      <td>45.380001</td>\n",
       "      <td>27.075731</td>\n",
       "      <td>8441582</td>\n",
       "    </tr>\n",
       "    <tr>\n",
       "      <th>...</th>\n",
       "      <td>...</td>\n",
       "      <td>...</td>\n",
       "      <td>...</td>\n",
       "      <td>...</td>\n",
       "      <td>...</td>\n",
       "      <td>...</td>\n",
       "    </tr>\n",
       "    <tr>\n",
       "      <th>2022-12-23</th>\n",
       "      <td>54.000000</td>\n",
       "      <td>54.270000</td>\n",
       "      <td>53.720001</td>\n",
       "      <td>53.799999</td>\n",
       "      <td>50.294235</td>\n",
       "      <td>1163360</td>\n",
       "    </tr>\n",
       "    <tr>\n",
       "      <th>2022-12-27</th>\n",
       "      <td>54.090000</td>\n",
       "      <td>54.290001</td>\n",
       "      <td>53.919998</td>\n",
       "      <td>54.000000</td>\n",
       "      <td>50.481205</td>\n",
       "      <td>965885</td>\n",
       "    </tr>\n",
       "    <tr>\n",
       "      <th>2022-12-28</th>\n",
       "      <td>54.150002</td>\n",
       "      <td>54.189999</td>\n",
       "      <td>53.549999</td>\n",
       "      <td>53.560001</td>\n",
       "      <td>50.069878</td>\n",
       "      <td>1272926</td>\n",
       "    </tr>\n",
       "    <tr>\n",
       "      <th>2022-12-29</th>\n",
       "      <td>53.439999</td>\n",
       "      <td>54.009998</td>\n",
       "      <td>53.270000</td>\n",
       "      <td>53.910000</td>\n",
       "      <td>50.397068</td>\n",
       "      <td>1373142</td>\n",
       "    </tr>\n",
       "    <tr>\n",
       "      <th>2022-12-30</th>\n",
       "      <td>53.750000</td>\n",
       "      <td>53.840000</td>\n",
       "      <td>53.240002</td>\n",
       "      <td>53.250000</td>\n",
       "      <td>49.780075</td>\n",
       "      <td>1445544</td>\n",
       "    </tr>\n",
       "  </tbody>\n",
       "</table>\n",
       "<p>1790 rows × 6 columns</p>\n",
       "</div>"
      ],
      "text/plain": [
       "                 Open       High        Low      Close  Adj Close   Volume\n",
       "Date                                                                      \n",
       "2016-01-11  48.009998  49.025002  47.900002  47.900002  28.579277  4230252\n",
       "2016-01-12  48.419998  49.439999  48.110001  48.945000  29.202766  4130594\n",
       "2016-01-13  49.445000  49.985001  48.590000  48.855000  29.149075  3796170\n",
       "2016-01-14  48.084999  48.279999  46.695000  47.095001  28.098978  7261105\n",
       "2016-01-15  47.000000  47.070000  44.915001  45.380001  27.075731  8441582\n",
       "...               ...        ...        ...        ...        ...      ...\n",
       "2022-12-23  54.000000  54.270000  53.720001  53.799999  50.294235  1163360\n",
       "2022-12-27  54.090000  54.290001  53.919998  54.000000  50.481205   965885\n",
       "2022-12-28  54.150002  54.189999  53.549999  53.560001  50.069878  1272926\n",
       "2022-12-29  53.439999  54.009998  53.270000  53.910000  50.397068  1373142\n",
       "2022-12-30  53.750000  53.840000  53.240002  53.250000  49.780075  1445544\n",
       "\n",
       "[1790 rows x 6 columns]"
      ]
     },
     "execution_count": 104,
     "metadata": {},
     "output_type": "execute_result"
    }
   ],
   "source": [
    "df[5:]"
   ]
  },
  {
   "cell_type": "code",
   "execution_count": 105,
   "id": "1ac993a8",
   "metadata": {},
   "outputs": [
    {
     "name": "stdout",
     "output_type": "stream",
     "text": [
      "Dataframe Shape:  (1795, 6)\n",
      "Null Value Present:  False\n"
     ]
    }
   ],
   "source": [
    "#Print the shape of Dataframe  and Check for Null Values\n",
    "print('Dataframe Shape: ', df.shape)\n",
    "print('Null Value Present: ', df.isnull().values.any())"
   ]
  },
  {
   "cell_type": "code",
   "execution_count": 107,
   "id": "283be64d",
   "metadata": {},
   "outputs": [
    {
     "data": {
      "text/plain": [
       "<Axes: xlabel='Date'>"
      ]
     },
     "execution_count": 107,
     "metadata": {},
     "output_type": "execute_result"
    },
    {
     "data": {
      "image/png": "[encoded data removed]",
      "text/plain": [
       "<Figure size 640x480 with 1 Axes>"
      ]
     },
     "metadata": {},
     "output_type": "display_data"
    }
   ],
   "source": [
    "#Plot the True Adj Close Value\n",
    "df['Close'].plot()"
   ]
  },
  {
   "cell_type": "code",
   "execution_count": 109,
   "id": "7ff5ec73",
   "metadata": {},
   "outputs": [],
   "source": [
    "#Selecting the Features\n",
    "features = ['Open', 'High', 'Low', 'Close', 'Volume']\n",
    "dataset = df[features]"
   ]
  },
  {
   "cell_type": "code",
   "execution_count": null,
   "id": "6a3def3b",
   "metadata": {},
   "outputs": [],
   "source": []
  },
  {
   "cell_type": "code",
   "execution_count": null,
   "id": "401d6cc3",
   "metadata": {},
   "outputs": [],
   "source": []
  },
  {
   "cell_type": "code",
   "execution_count": null,
   "id": "7d7363ca",
   "metadata": {},
   "outputs": [],
   "source": [
    "# change the date to datetime index. format suitable for conducting time-series analysis and \n",
    "# performing various date-based operations using pandas.  \n",
    "datetime_series = pd.to_datetime(dataset['Date'])\n",
    "datetime_index = pd.DatetimeIndex(datetime_series.values)\n",
    "dataset = dataset.set_index(datetime_index)\n",
    "dataset = dataset.sort_values(by='Date')\n",
    "dataset = dataset.drop(columns='Date')"
   ]
  },
  {
   "cell_type": "code",
   "execution_count": null,
   "id": "f776ec6b",
   "metadata": {},
   "outputs": [],
   "source": []
  },
  {
   "cell_type": "code",
   "execution_count": null,
   "id": "106a65d7",
   "metadata": {},
   "outputs": [],
   "source": []
  },
  {
   "cell_type": "code",
   "execution_count": null,
   "id": "0fe8ab50",
   "metadata": {},
   "outputs": [],
   "source": []
  },
  {
   "cell_type": "code",
   "execution_count": null,
   "id": "69d1a36e",
   "metadata": {},
   "outputs": [],
   "source": []
  },
  {
   "cell_type": "code",
   "execution_count": 40,
   "id": "96d30673",
   "metadata": {},
   "outputs": [],
   "source": [
    "#Set Target Variable\n",
    "#output_var = df.dataframe(df['Adj Close'])\n",
    "output_var = df['Adj Close']\n",
    "#Selecting the Features\n",
    "features = ['Open', 'High', 'Low', 'Volume']"
   ]
  },
  {
   "cell_type": "code",
   "execution_count": 41,
   "id": "18e97035",
   "metadata": {},
   "outputs": [
    {
     "data": {
      "text/html": [
       "<div>\n",
       "<style scoped>\n",
       "    .dataframe tbody tr th:only-of-type {\n",
       "        vertical-align: middle;\n",
       "    }\n",
       "\n",
       "    .dataframe tbody tr th {\n",
       "        vertical-align: top;\n",
       "    }\n",
       "\n",
       "    .dataframe thead th {\n",
       "        text-align: right;\n",
       "    }\n",
       "</style>\n",
       "<table border=\"1\" class=\"dataframe\">\n",
       "  <thead>\n",
       "    <tr style=\"text-align: right;\">\n",
       "      <th></th>\n",
       "      <th>Open</th>\n",
       "      <th>High</th>\n",
       "      <th>Low</th>\n",
       "      <th>Volume</th>\n",
       "    </tr>\n",
       "    <tr>\n",
       "      <th>Date</th>\n",
       "      <th></th>\n",
       "      <th></th>\n",
       "      <th></th>\n",
       "      <th></th>\n",
       "    </tr>\n",
       "  </thead>\n",
       "  <tbody>\n",
       "    <tr>\n",
       "      <th>2018-08-03</th>\n",
       "      <td>0.707839</td>\n",
       "      <td>0.688041</td>\n",
       "      <td>0.705286</td>\n",
       "      <td>0.186593</td>\n",
       "    </tr>\n",
       "    <tr>\n",
       "      <th>2018-08-06</th>\n",
       "      <td>0.703800</td>\n",
       "      <td>0.683361</td>\n",
       "      <td>0.696218</td>\n",
       "      <td>0.143594</td>\n",
       "    </tr>\n",
       "    <tr>\n",
       "      <th>2018-08-07</th>\n",
       "      <td>0.696437</td>\n",
       "      <td>0.689211</td>\n",
       "      <td>0.707672</td>\n",
       "      <td>0.137971</td>\n",
       "    </tr>\n",
       "    <tr>\n",
       "      <th>2018-08-08</th>\n",
       "      <td>0.703088</td>\n",
       "      <td>0.687105</td>\n",
       "      <td>0.707911</td>\n",
       "      <td>0.121485</td>\n",
       "    </tr>\n",
       "    <tr>\n",
       "      <th>2018-08-09</th>\n",
       "      <td>0.698337</td>\n",
       "      <td>0.677744</td>\n",
       "      <td>0.697411</td>\n",
       "      <td>0.114187</td>\n",
       "    </tr>\n",
       "  </tbody>\n",
       "</table>\n",
       "</div>"
      ],
      "text/plain": [
       "                Open      High       Low    Volume\n",
       "Date                                              \n",
       "2018-08-03  0.707839  0.688041  0.705286  0.186593\n",
       "2018-08-06  0.703800  0.683361  0.696218  0.143594\n",
       "2018-08-07  0.696437  0.689211  0.707672  0.137971\n",
       "2018-08-08  0.703088  0.687105  0.707911  0.121485\n",
       "2018-08-09  0.698337  0.677744  0.697411  0.114187"
      ]
     },
     "execution_count": 41,
     "metadata": {},
     "output_type": "execute_result"
    }
   ],
   "source": [
    "#Scaling\n",
    "scaler = MinMaxScaler()\n",
    "feature_transform = scaler.fit_transform(df[features])\n",
    "feature_transform= pd.DataFrame(columns=features, data=feature_transform, index=df.index)\n",
    "feature_transform.head()"
   ]
  },
  {
   "cell_type": "code",
   "execution_count": 85,
   "id": "0e223d22",
   "metadata": {},
   "outputs": [],
   "source": [
    "#Splitting to Training set and Test set\n",
    "\n",
    "timesplit= TimeSeriesSplit(n_splits=10)\n",
    "for train_index, test_index in timesplit.split(feature_transform):\n",
    "        X_train, X_test = feature_transform[:len(train_index)], feature_transform[len(train_index): (len(train_index)+len(test_index))]\n",
    "        y_train, y_test = output_var[:len(train_index)].values.ravel(), output_var[len(train_index): (len(train_index)+len(test_index))].values.ravel()"
   ]
  },
  {
   "cell_type": "code",
   "execution_count": 86,
   "id": "ab6c457e",
   "metadata": {},
   "outputs": [
    {
     "data": {
      "text/plain": [
       "(1167, 4)"
      ]
     },
     "execution_count": 86,
     "metadata": {},
     "output_type": "execute_result"
    }
   ],
   "source": [
    "X_train.shape"
   ]
  },
  {
   "cell_type": "code",
   "execution_count": 80,
   "id": "f674e672",
   "metadata": {},
   "outputs": [
    {
     "data": {
      "text/plain": [
       "Date\n",
       "2018-08-03    37.505856\n",
       "2018-08-06    37.237064\n",
       "2018-08-07    37.588558\n",
       "2018-08-08    37.492069\n",
       "2018-08-09    37.340450\n",
       "Name: Adj Close, dtype: float64"
      ]
     },
     "execution_count": 80,
     "metadata": {},
     "output_type": "execute_result"
    }
   ],
   "source": [
    "output_var.head()"
   ]
  },
  {
   "cell_type": "code",
   "execution_count": null,
   "id": "ea67f2b1",
   "metadata": {},
   "outputs": [],
   "source": []
  },
  {
   "cell_type": "code",
   "execution_count": 61,
   "id": "32c91a98",
   "metadata": {},
   "outputs": [],
   "source": [
    "#Process the data for LSTM,  \n",
    "# first transform the training and test data to NumPy arrays and then restructure them to match the format \n",
    "# (Number of Samples, 1, Number of Features). where windows size is 1.  Note: this transform is only possible with 1 \n",
    "trainX =np.array(X_train)\n",
    "testX =np.array(X_test)\n",
    "X_train = trainX.reshape(X_train.shape[0], 1, X_train.shape[1])\n",
    "X_test = testX.reshape(X_test.shape[0], 1, X_test.shape[1])"
   ]
  },
  {
   "cell_type": "code",
   "execution_count": 84,
   "id": "0b5efdd2",
   "metadata": {},
   "outputs": [
    {
     "data": {
      "text/plain": [
       "(1167, 1, 4)"
      ]
     },
     "execution_count": 84,
     "metadata": {},
     "output_type": "execute_result"
    }
   ],
   "source": [
    "X_train.shape"
   ]
  },
  {
   "cell_type": "code",
   "execution_count": null,
   "id": "01fe03f9",
   "metadata": {},
   "outputs": [],
   "source": []
  },
  {
   "cell_type": "code",
   "execution_count": 82,
   "id": "02b394e1",
   "metadata": {},
   "outputs": [],
   "source": [
    "def create_rnn_X_data(data, window_size):\n",
    "    X_train = []\n",
    "    for i in range(window_size, data.shape[0]):\n",
    "        X_train.append(data.iloc[i-window_size: i].values)\n",
    "    \n",
    "    X_train = np.array(X_train)\n",
    "    return X_train"
   ]
  },
  {
   "cell_type": "code",
   "execution_count": 92,
   "id": "4d459401",
   "metadata": {},
   "outputs": [],
   "source": [
    "X_train_new = create_rnn_X_data(X_train, 3)"
   ]
  },
  {
   "cell_type": "code",
   "execution_count": 93,
   "id": "a4285ad9",
   "metadata": {},
   "outputs": [
    {
     "data": {
      "text/plain": [
       "(1164, 3, 4)"
      ]
     },
     "execution_count": 93,
     "metadata": {},
     "output_type": "execute_result"
    }
   ],
   "source": [
    "X_train_new.shape"
   ]
  },
  {
   "cell_type": "code",
   "execution_count": 91,
   "id": "daae9f75",
   "metadata": {},
   "outputs": [
    {
     "data": {
      "text/plain": [
       "(1167,)"
      ]
     },
     "execution_count": 91,
     "metadata": {},
     "output_type": "execute_result"
    }
   ],
   "source": [
    "y_train.shape"
   ]
  },
  {
   "cell_type": "code",
   "execution_count": null,
   "id": "0097b5dd",
   "metadata": {},
   "outputs": [],
   "source": []
  },
  {
   "cell_type": "code",
   "execution_count": 51,
   "id": "a0644a95",
   "metadata": {},
   "outputs": [
    {
     "name": "stdout",
     "output_type": "stream",
     "text": [
      "You must install pydot (`pip install pydot`) and install graphviz (see instructions at https://graphviz.gitlab.io/download/) for plot_model to work.\n"
     ]
    }
   ],
   "source": [
    "#Building the LSTM Model\n",
    "lstm = Sequential()\n",
    "lstm.add(LSTM(32, input_shape=(1, trainX.shape[1]), activation='relu', return_sequences=False))\n",
    "lstm.add(Dense(1))"
   ]
  },
  {
   "cell_type": "code",
   "execution_count": null,
   "id": "6741cd3b",
   "metadata": {},
   "outputs": [],
   "source": [
    "lstm.compile(loss='mean_squared_error', optimizer='adam')"
   ]
  },
  {
   "cell_type": "code",
   "execution_count": null,
   "id": "d83c20df",
   "metadata": {},
   "outputs": [],
   "source": [
    "plot_model(lstm, show_shapes=True, show_layer_names=True)"
   ]
  },
  {
   "cell_type": "code",
   "execution_count": 17,
   "id": "b17930e2",
   "metadata": {},
   "outputs": [
    {
     "name": "stdout",
     "output_type": "stream",
     "text": [
      "Model: \"sequential\"\n",
      "_________________________________________________________________\n",
      " Layer (type)                Output Shape              Param #   \n",
      "=================================================================\n",
      " lstm (LSTM)                 (None, 32)                4736      \n",
      "                                                                 \n",
      " dense (Dense)               (None, 1)                 33        \n",
      "                                                                 \n",
      "=================================================================\n",
      "Total params: 4,769\n",
      "Trainable params: 4,769\n",
      "Non-trainable params: 0\n",
      "_________________________________________________________________\n"
     ]
    }
   ],
   "source": [
    "lstm.summary()"
   ]
  },
  {
   "cell_type": "code",
   "execution_count": 64,
   "id": "7a82c461",
   "metadata": {},
   "outputs": [],
   "source": [
    "early_stopping = EarlyStopping(monitor='val_loss', \n",
    "                              patience=20,\n",
    "                              restore_best_weights=True)"
   ]
  },
  {
   "cell_type": "code",
   "execution_count": 68,
   "id": "4b80476d",
   "metadata": {},
   "outputs": [],
   "source": [
    "results_path = Path('results', 'univariate_time_series')\n",
    "if not results_path.exists():\n",
    "    results_path.mkdir(parents=True)"
   ]
  },
  {
   "cell_type": "code",
   "execution_count": 71,
   "id": "364e1ed3",
   "metadata": {},
   "outputs": [],
   "source": [
    "rnn_path = (results_path / 'rnn.h5').as_posix()\n",
    "checkpointer = ModelCheckpoint(filepath=rnn_path,\n",
    "                               verbose=1,\n",
    "                               monitor='val_loss',\n",
    "                               save_best_only=True)"
   ]
  },
  {
   "cell_type": "code",
   "execution_count": 72,
   "id": "afa45f68",
   "metadata": {},
   "outputs": [
    {
     "name": "stdout",
     "output_type": "stream",
     "text": [
      "Epoch 1/30\n",
      "111/146 [=====================>........] - ETA: 0s - loss: 19.6507\n",
      "Epoch 1: val_loss did not improve from inf\n",
      "146/146 [==============================] - 6s 26ms/step - loss: 19.9703 - val_loss: nan\n",
      "Epoch 2/30\n",
      "117/146 [=======================>......] - ETA: 0s - loss: 18.7025\n",
      "Epoch 2: val_loss did not improve from inf\n",
      "146/146 [==============================] - 3s 19ms/step - loss: 19.8626 - val_loss: nan\n",
      "Epoch 3/30\n",
      "133/146 [==========================>...] - ETA: 0s - loss: 19.6508\n",
      "Epoch 3: val_loss did not improve from inf\n",
      "146/146 [==============================] - 1s 7ms/step - loss: 19.7574 - val_loss: nan\n",
      "Epoch 4/30\n",
      "112/146 [======================>.......] - ETA: 0s - loss: 19.3019\n",
      "Epoch 4: val_loss did not improve from inf\n",
      "146/146 [==============================] - 1s 8ms/step - loss: 19.6545 - val_loss: nan\n",
      "Epoch 5/30\n",
      "141/146 [===========================>..] - ETA: 0s - loss: 19.9420\n",
      "Epoch 5: val_loss did not improve from inf\n",
      "146/146 [==============================] - 1s 7ms/step - loss: 19.5542 - val_loss: nan\n",
      "Epoch 6/30\n",
      "112/146 [======================>.......] - ETA: 0s - loss: 19.1797\n",
      "Epoch 6: val_loss did not improve from inf\n",
      "146/146 [==============================] - 1s 8ms/step - loss: 19.4563 - val_loss: nan\n",
      "Epoch 7/30\n",
      "131/146 [=========================>....] - ETA: 0s - loss: 19.1002\n",
      "Epoch 7: val_loss did not improve from inf\n",
      "146/146 [==============================] - 1s 8ms/step - loss: 19.3610 - val_loss: nan\n",
      "Epoch 8/30\n",
      "146/146 [==============================] - ETA: 0s - loss: 19.2682\n",
      "Epoch 8: val_loss did not improve from inf\n",
      "146/146 [==============================] - 1s 8ms/step - loss: 19.2682 - val_loss: nan\n",
      "Epoch 9/30\n",
      "113/146 [======================>.......] - ETA: 0s - loss: 18.8450\n",
      "Epoch 9: val_loss did not improve from inf\n",
      "146/146 [==============================] - 1s 7ms/step - loss: 19.1780 - val_loss: nan\n",
      "Epoch 10/30\n",
      "141/146 [===========================>..] - ETA: 0s - loss: 19.4630\n",
      "Epoch 10: val_loss did not improve from inf\n",
      "146/146 [==============================] - 1s 8ms/step - loss: 19.0902 - val_loss: nan\n",
      "Epoch 11/30\n",
      "142/146 [============================>.] - ETA: 0s - loss: 19.3659\n",
      "Epoch 11: val_loss did not improve from inf\n",
      "146/146 [==============================] - 1s 8ms/step - loss: 19.0049 - val_loss: nan\n",
      "Epoch 12/30\n",
      "138/146 [===========================>..] - ETA: 0s - loss: 19.3312\n",
      "Epoch 12: val_loss did not improve from inf\n",
      "146/146 [==============================] - 1s 7ms/step - loss: 18.9220 - val_loss: nan\n",
      "Epoch 13/30\n",
      "106/146 [====================>.........] - ETA: 0s - loss: 19.7477\n",
      "Epoch 13: val_loss did not improve from inf\n",
      "146/146 [==============================] - 1s 7ms/step - loss: 18.8415 - val_loss: nan\n",
      "Epoch 14/30\n",
      "111/146 [=====================>........] - ETA: 0s - loss: 18.8909\n",
      "Epoch 14: val_loss did not improve from inf\n",
      "146/146 [==============================] - 1s 8ms/step - loss: 18.7633 - val_loss: nan\n",
      "Epoch 15/30\n",
      "119/146 [=======================>......] - ETA: 0s - loss: 17.7217\n",
      "Epoch 15: val_loss did not improve from inf\n",
      "146/146 [==============================] - 1s 9ms/step - loss: 18.6875 - val_loss: nan\n",
      "Epoch 16/30\n",
      "132/146 [==========================>...] - ETA: 0s - loss: 18.5763\n",
      "Epoch 16: val_loss did not improve from inf\n",
      "146/146 [==============================] - 1s 8ms/step - loss: 18.6139 - val_loss: nan\n",
      "Epoch 17/30\n",
      "110/146 [=====================>........] - ETA: 0s - loss: 18.9077\n",
      "Epoch 17: val_loss did not improve from inf\n",
      "146/146 [==============================] - 1s 8ms/step - loss: 18.5425 - val_loss: nan\n",
      "Epoch 18/30\n",
      "146/146 [==============================] - ETA: 0s - loss: 18.4732\n",
      "Epoch 18: val_loss did not improve from inf\n",
      "146/146 [==============================] - 1s 7ms/step - loss: 18.4732 - val_loss: nan\n",
      "Epoch 19/30\n",
      "145/146 [============================>.] - ETA: 0s - loss: 18.4939\n",
      "Epoch 19: val_loss did not improve from inf\n",
      "146/146 [==============================] - 1s 8ms/step - loss: 18.4061 - val_loss: nan\n",
      "Epoch 20/30\n",
      "142/146 [============================>.] - ETA: 0s - loss: 18.6735\n",
      "Epoch 20: val_loss did not improve from inf\n",
      "146/146 [==============================] - 1s 9ms/step - loss: 18.3410 - val_loss: nan\n"
     ]
    }
   ],
   "source": [
    "#Model Training\n",
    "history=lstm.fit(X_train, \n",
    "                 y_train, \n",
    "                 epochs=30, \n",
    "                 batch_size=8, \n",
    "                 shuffle=False,\n",
    "                 validation_data=(X_test, y_test),\n",
    "                 callbacks=[early_stopping, checkpointer],\n",
    "                 verbose=1\n",
    "                )"
   ]
  },
  {
   "cell_type": "code",
   "execution_count": 73,
   "id": "ce59f7e2",
   "metadata": {},
   "outputs": [
    {
     "name": "stdout",
     "output_type": "stream",
     "text": [
      "4/4 [==============================] - 2s 2ms/step\n"
     ]
    }
   ],
   "source": [
    "#LSTM Prediction\n",
    "y_pred= lstm.predict(X_test)"
   ]
  },
  {
   "cell_type": "code",
   "execution_count": 74,
   "id": "e7be93e3",
   "metadata": {},
   "outputs": [
    {
     "data": {
      "image/png": "[encoded data removed]",
      "text/plain": [
       "<Figure size 640x480 with 1 Axes>"
      ]
     },
     "metadata": {},
     "output_type": "display_data"
    }
   ],
   "source": [
    "#Predicted vs True Adj Close Value – LSTM\n",
    "plt.plot(y_test, label='True Value')\n",
    "plt.plot(y_pred, label='LSTM Value')\n",
    "plt.title('Prediction by LSTM')\n",
    "plt.xlabel('Time Scale')\n",
    "plt.ylabel('Scaled EUR')\n",
    "plt.legend()\n",
    "plt.show()"
   ]
  },
  {
   "cell_type": "code",
   "execution_count": 77,
   "id": "d45941f6",
   "metadata": {},
   "outputs": [
    {
     "data": {
      "image/png": "[encoded data removed]",
      "text/plain": [
       "<Figure size 1200x400 with 1 Axes>"
      ]
     },
     "metadata": {},
     "output_type": "display_data"
    }
   ],
   "source": [
    "rmse = lstm_mse_rsme(history)"
   ]
  },
  {
   "cell_type": "code",
   "execution_count": null,
   "id": "51ef5388",
   "metadata": {},
   "outputs": [],
   "source": []
  },
  {
   "cell_type": "code",
   "execution_count": null,
   "id": "11d765b8",
   "metadata": {},
   "outputs": [],
   "source": []
  },
  {
   "cell_type": "code",
   "execution_count": null,
   "id": "5404abde",
   "metadata": {},
   "outputs": [],
   "source": []
  },
  {
   "cell_type": "code",
   "execution_count": null,
   "id": "0c74fbde",
   "metadata": {},
   "outputs": [],
   "source": []
  },
  {
   "cell_type": "code",
   "execution_count": null,
   "id": "3d5b1cb2",
   "metadata": {},
   "outputs": [],
   "source": []
  },
  {
   "cell_type": "code",
   "execution_count": null,
   "id": "3a6cb6c6",
   "metadata": {},
   "outputs": [],
   "source": []
  },
  {
   "cell_type": "code",
   "execution_count": null,
   "id": "3469e653",
   "metadata": {},
   "outputs": [],
   "source": []
  },
  {
   "cell_type": "code",
   "execution_count": null,
   "id": "85897be0",
   "metadata": {},
   "outputs": [],
   "source": []
  },
  {
   "cell_type": "code",
   "execution_count": null,
   "id": "2da4edb1",
   "metadata": {},
   "outputs": [],
   "source": []
  },
  {
   "cell_type": "code",
   "execution_count": null,
   "id": "5e458300",
   "metadata": {},
   "outputs": [],
   "source": []
  },
  {
   "cell_type": "code",
   "execution_count": null,
   "id": "af06aea9",
   "metadata": {},
   "outputs": [],
   "source": []
  },
  {
   "cell_type": "code",
   "execution_count": null,
   "id": "4958716e",
   "metadata": {},
   "outputs": [],
   "source": []
  },
  {
   "cell_type": "code",
   "execution_count": null,
   "id": "a5d4f7fd",
   "metadata": {},
   "outputs": [],
   "source": []
  },
  {
   "cell_type": "code",
   "execution_count": null,
   "id": "9649d9c7",
   "metadata": {},
   "outputs": [],
   "source": []
  },
  {
   "cell_type": "code",
   "execution_count": null,
   "id": "1c91ed3e",
   "metadata": {},
   "outputs": [],
   "source": []
  },
  {
   "cell_type": "code",
   "execution_count": null,
   "id": "4dd235d2",
   "metadata": {},
   "outputs": [],
   "source": []
  },
  {
   "cell_type": "code",
   "execution_count": null,
   "id": "1584e427",
   "metadata": {},
   "outputs": [],
   "source": []
  },
  {
   "cell_type": "code",
   "execution_count": null,
   "id": "e2bd5fe4",
   "metadata": {},
   "outputs": [],
   "source": []
  }
 ],
 "metadata": {
  "kernelspec": {
   "display_name": "Python 3 (ipykernel)",
   "language": "python",
   "name": "python3"
  },
  "language_info": {
   "codemirror_mode": {
    "name": "ipython",
    "version": 3
   },
   "file_extension": ".py",
   "mimetype": "text/x-python",
   "name": "python",
   "nbconvert_exporter": "python",
   "pygments_lexer": "ipython3",
   "version": "3.9.13"
  }
 },
 "nbformat": 4,
 "nbformat_minor": 5
}
